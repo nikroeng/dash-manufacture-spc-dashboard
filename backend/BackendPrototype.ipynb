{
 "cells": [
  {
   "cell_type": "code",
   "execution_count": 1,
   "metadata": {},
   "outputs": [],
   "source": [
    "import pandas as pd\n",
    "import numpy as np\n",
    "\n",
    "from pycel import ExcelCompiler\n",
    "import time"
   ]
  },
  {
   "cell_type": "code",
   "execution_count": 2,
   "metadata": {},
   "outputs": [],
   "source": [
    "def Convert_Column_Times_To_Seconds(time_column):\n",
    "    return_list = []\n",
    "    for decimal_time in time_column:\n",
    "        return_list.append(decimal_time * 24 * 3600)\n",
    "\n",
    "    return return_list"
   ]
  },
  {
   "cell_type": "code",
   "execution_count": 3,
   "metadata": {},
   "outputs": [],
   "source": [
    "def Convert_Column_Times_to_Format(time_column):\n",
    "    return_list = []\n",
    "    for timestamp in time_column:\n",
    "        return_list.append(time.strftime('%H:%M:%S', time.gmtime(timestamp)))\n",
    "\n",
    "    return return_list    "
   ]
  },
  {
   "cell_type": "code",
   "execution_count": 4,
   "metadata": {},
   "outputs": [],
   "source": [
    "# If True, the Excel model is evaluated again, and exported to CSV as cache. If False, cached CSV files are used.\n",
    "generate_model_cache = True\n",
    "\n",
    "aircraft_types = [\"A350\", \"A380\"] #, \"A350\", \"A380\", \"B788\", \"B77W\", \"B748\"]"
   ]
  },
  {
   "cell_type": "code",
   "execution_count": 5,
   "metadata": {},
   "outputs": [
    {
     "name": "stderr",
     "output_type": "stream",
     "text": [
      "C:\\Users\\marko\\anaconda3\\envs\\LCAero\\lib\\site-packages\\openpyxl\\worksheet\\_reader.py:312: UserWarning: Conditional Formatting extension is not supported and will be removed\n",
      "  warn(msg)\n",
      "C:\\Users\\marko\\anaconda3\\envs\\LCAero\\lib\\site-packages\\openpyxl\\reader\\drawings.py:29: UserWarning: DrawingML support is incomplete and limited to charts and images only. Shapes and drawings will be lost.\n",
      "  warn(\"DrawingML support is incomplete and limited to charts and images only. Shapes and drawings will be lost.\")\n"
     ]
    },
    {
     "name": "stdout",
     "output_type": "stream",
     "text": [
      "Aircraft setting: A350\n",
      "Aircraft setting: A380\n"
     ]
    }
   ],
   "source": [
    "# Evaluate model and store results in dataframe, and export CSV file as cache\n",
    "\n",
    "if(generate_model_cache == True):\n",
    "\n",
    "    flight_df_dict = {}\n",
    "\n",
    "    # Column names of emissions Dataframe\n",
    "    column_names = [\"Distance [nm]\", \"Cruise flight level [100 ft]\", \"Duration [Excel]\", \"Fuel burn [kg]\", \"CO2 [kg]\", \"NOx [kg]\", \"SOx [kg]\", \"H2O [kg]\", \"CO [kg]\", \"HC [kg]\", \"PM non volatile [kg]\", \"PM volatile [kg]\", \"PM total [kg]\"]\n",
    "\n",
    "    for aircraft_type in aircraft_types:\n",
    "        model_path = \"model/EEAEmissionsCalculator_{}.xlsm\".format(aircraft_type)\n",
    "        model = ExcelCompiler(filename=model_path)\n",
    "\n",
    "        # print(\"Previous aircraft setting: {}\".format(model.evaluate('Emissions calculator!D17')))\n",
    "\n",
    "        # # Set settings in Excel model to aircraft type\n",
    "        # model.set_value('Emissions calculator!D17', aircraft_type)\n",
    "\n",
    "        print(\"Aircraft setting: {}\".format(model.evaluate('Emissions calculator!D17')))\n",
    "\n",
    "        # Evaluate model for this aircraft type and store results in dictionary\n",
    "        evaluation_results = model.evaluate('Emissions calculator!D33:P42')\n",
    "        evaluation_results_df = pd.DataFrame.from_dict(evaluation_results)\n",
    "        evaluation_results_df.columns = column_names\n",
    "\n",
    "        # Convert times to seconds\n",
    "        evaluation_results_df.insert(loc=0, column='Duration [s]', value=Convert_Column_Times_To_Seconds(evaluation_results_df[\"Duration [Excel]\"]))\n",
    "\n",
    "        # Adding rows of zeros to set initial condition for further calculations\n",
    "        evaluation_results_df.loc[-1] = ['0','0','0','0','0','0','0','0','0','0','0','0','0','0']\n",
    "        evaluation_results_df.index = evaluation_results_df.index + 1 # shifting index\n",
    "        evaluation_results_df = evaluation_results_df.sort_index()  # sorting by index\n",
    "        evaluation_results_df = evaluation_results_df.apply(pd.to_numeric)\n",
    "\n",
    "        # Excel time format is no longer needed\n",
    "        evaluation_results_df = evaluation_results_df.drop(columns='Duration [Excel]')\n",
    "\n",
    "        # Store CSV for cache purposes\n",
    "        evaluation_results_df.to_csv(\"model/{}.csv\".format(aircraft_type))\n",
    "\n",
    "        flight_df_dict[aircraft_type] = evaluation_results_df\n",
    "    \n"
   ]
  },
  {
   "cell_type": "code",
   "execution_count": null,
   "metadata": {},
   "outputs": [],
   "source": [
    "def move_column_inplace(df, col, pos):\n",
    "    col = df.pop(col)\n",
    "    df.insert(pos, col.name, col)\n",
    "\n",
    "    return df"
   ]
  },
  {
   "cell_type": "code",
   "execution_count": null,
   "metadata": {},
   "outputs": [],
   "source": [
    "def Convert_Excel_Times(decimal_time):\n",
    "    hours = decimal_time * 24\n",
    "    minutes = 60 * hours\n",
    "    seconds = 60 * minutes\n",
    "\n",
    "    time_return = time.strftime('%H:%M:%S', time.gmtime(seconds))\n",
    "    return time_return"
   ]
  },
  {
   "cell_type": "code",
   "execution_count": null,
   "metadata": {},
   "outputs": [],
   "source": [
    "def Convert_Column_Times(time_column):\n",
    "    return_list = []\n",
    "    for decimal_time in time_column:\n",
    "        return_list.append(Convert_Excel_Times(decimal_time))\n",
    "\n",
    "    return return_list"
   ]
  },
  {
   "cell_type": "code",
   "execution_count": null,
   "metadata": {},
   "outputs": [],
   "source": [
    "a320_df = pd.read_csv(\"model/a320.csv\", index_col=0)\n",
    "\n",
    "# Remove first rows\n",
    "a320_df = a320_df.iloc[2:]\n",
    "\n",
    "a320_df = a320_df.apply(pd.to_numeric)\n",
    "\n",
    "# Convert times to second\n",
    "a320_df.insert(loc=0, column='Duration [s]', value=Convert_Column_Times_To_Seconds(a320_df[\"Duration [Excel]\"]))\n",
    "\n",
    "# Drop other time columns\n",
    "a320_df = a320_df.drop(columns='Duration [hh:mm:ss]')\n",
    "a320_df = a320_df.drop(columns='Duration [Excel]')\n",
    "\n",
    "#a320_df = move_column_inplace(a320_df, \"Duration [Excel]\", 0)"
   ]
  },
  {
   "cell_type": "code",
   "execution_count": null,
   "metadata": {},
   "outputs": [],
   "source": [
    "a320_df.loc[-1] = ['0','0','0','0','0','0','0','0','0','0','0','0','0']  # adding a row\n",
    "a320_df.index = a320_df.index + 1  # shifting index\n",
    "a320_df = a320_df.sort_index()  # sorting by index\n",
    "a320_df = a320_df.apply(pd.to_numeric)\n"
   ]
  },
  {
   "cell_type": "code",
   "execution_count": null,
   "metadata": {},
   "outputs": [],
   "source": [
    "def Fetch_Rows_For_Interpolation(flight_df, time_given):\n",
    "    \"\"\"Fetches the two rows in the data next to the given time (closest lower than given time and closest higher than given time), used for linear interpolation\"\"\"\n",
    "    \n",
    "    df_mask = flight_df['Duration [s]'] <= time_given\n",
    "\n",
    "    # Get last row where time is lower than given time\n",
    "    flight_df_lower_bound = flight_df[df_mask].iloc[-1:]\n",
    "    \n",
    "    index_lower_bound = flight_df_lower_bound.iloc[0:].index\n",
    "    \n",
    "    # Look up position of index in non-filtered dataframe\n",
    "    loc_lower_bound = flight_df.index.get_loc(index_lower_bound[0])\n",
    "\n",
    "    # Upper bound is one position (row) higher in Dataframe\n",
    "    loc_upper_bound = loc_lower_bound + 1\n",
    "\n",
    "    flight_df_upper_bound = flight_df.iloc[[loc_upper_bound]]\n",
    "\n",
    "    df_list = [flight_df_lower_bound, flight_df_upper_bound]\n",
    "    flight_df_interval = pd.concat(df_list)\n",
    "\n",
    "    return flight_df_interval"
   ]
  },
  {
   "cell_type": "code",
   "execution_count": null,
   "metadata": {},
   "outputs": [],
   "source": [
    "def Interpolate_Emissions(flight_df, given_times):\n",
    "    \"\"\"Receives list of time points for which emissions are to be interpolated\n",
    "    :return: Dataframe with emissions for each time point\n",
    "    \"\"\"\n",
    "\n",
    "    df_list = []\n",
    "\n",
    "    for given_time in given_times:\n",
    "\n",
    "        # Get data higher and lower than given time\n",
    "        flight_df_interval = Fetch_Rows_For_Interpolation(flight_df, given_time)\n",
    "\n",
    "        # Init dictionary\n",
    "        emissions_at_time = {}\n",
    "\n",
    "        x = given_time\n",
    "\n",
    "        # Iterate through columns to interpolate each of them individually\n",
    "        for (column_name, column_data) in flight_df_interval.iteritems():\n",
    "\n",
    "            # Get x values (times) as interpolation boundaries on x-axis\n",
    "            if(column_name == \"Duration [s]\"):\n",
    "                x1 = flight_df_interval[\"Duration [s]\"].iloc[0]\n",
    "                x2 = flight_df_interval[\"Duration [s]\"].iloc[1]\n",
    "\n",
    "            y1 = column_data.iloc[0]\n",
    "            y2 = column_data.iloc[1]\n",
    "\n",
    "            # Linear interpolation\n",
    "            y = y1 + (x - x1)*((y2-y1)/(x2-x1))\n",
    "\n",
    "            # Store interpolated column value to dictionary\n",
    "            emissions_at_time[column_name] = [y]\n",
    "\n",
    "        emissions_at_time_df = pd.DataFrame.from_dict(emissions_at_time)\n",
    "        emissions_at_time_df.insert(loc=1, column='Duration [hh:mm:ss]', value=Convert_Column_Times_to_Format(emissions_at_time_df[\"Duration [s]\"]))\n",
    "\n",
    "        df_list.append(emissions_at_time_df)\n",
    "    \n",
    "    emissions_at_times_df = pd.concat(df_list)\n",
    "\n",
    "    return emissions_at_times_df\n"
   ]
  },
  {
   "cell_type": "code",
   "execution_count": null,
   "metadata": {},
   "outputs": [],
   "source": [
    "desired_times = [100, 2000, 3000]\n",
    "\n",
    "emissions_at_times_output_df = Interpolate_Emissions(a320_df, desired_times)"
   ]
  },
  {
   "cell_type": "code",
   "execution_count": null,
   "metadata": {},
   "outputs": [],
   "source": [
    "emissions_at_times_output_df"
   ]
  },
  {
   "cell_type": "markdown",
   "metadata": {},
   "source": [
    "# Notes\n",
    "\n",
    "## EEA Model\n",
    "Manipulating the EEA Aviation Emissions Calculator via the Python library PyCel is slow. Reading the \"Climb, cruise, descent\" stage length (NM) information from the Excel model for a flight with an Airbus A320 takes about 3.5 minutes.\n",
    "\n",
    "The primary goal of this project is not the development of a Python implementation of the EEA Aviation Emissions Calculator. Therefore, we do not focus on increasing the excecution speed of the Excel model in Python. Instead, we cache the information. The model is executed in Excel with standard settings for each aircraft that should be covered by LCAero. The results (emissions) are cached in a CSV file that can be imported by a Python script without analyzing the spreadsheet again.\n",
    "\n",
    "- Add simple explaination of EEA model to report, explain different flight phases, etc.\n",
    "- Define LTO and CCD stage length\n",
    "\n",
    "## Other life data\n",
    "\n",
    "Flight cycles is very hard to determine as there are so many variables. Every airline has its own rules on this. There is not an x amount of maximum flying cycles a seat or galley is designed for. \n",
    "It also varies per product (seat, galley, lavatory etc) and sort of aircraft and mission (low cost vs. full service, long haul vs short/medium range).\n",
    "\n",
    "A low cost airline has much more wear and tear on the seats, carpet (sometimes 8-10 short flight cycles a day) but these aircraft have less wear and tear on the galley as there is much less on board service and catering available and also less wear and tear on the lavatory since people use the bathroom less on short flights. \n",
    "\n",
    "So for example a Boeing 737 from KLM (full service airline with maybe max 4 flights a day with catering) will have a completely different interior replacement schedule than a Boeing 737 from Ryanair (low cost with maybe 8 to 10 flight a day and no catering) . \n",
    "\n",
    "Also there is a difference in long haul and short range. The latter has much more flying cycles and therefore the seats and carpets wear much faster as there are more people moving through the isle and using the overhead bins during one day. \n",
    "\n",
    "Seats and lavatories are usually replaced when the aircraft is checked during a C- check . This can be a certain time frame (e.g. 2 years) or 2000-3000 flight cycles.\n",
    "Galleys are replaced during D-checks (every 10 years, or 10000-15000 cycles) but not per se during every D check. Depends on how long the airline is planning to continue flying with the A/C\n",
    "\n",
    "So there is not a definitive answer on the number of flight cycles. \n",
    "\n",
    "Criteria like environmental performance is now being introduced within the airline industry. But it is very new for most. For some airlines ((Northern) Europe) this is  a factor that they take into account when replacing equipment. This applies especially to airlines that are (partially) owned by the local government as they usually set is as a requirement for new purchases. For others it is not important at all (Africa , Central Asia and Middle East).\n",
    "\n",
    "I don’t have access to live data from A/C at the moment, same goes for emissions calculator.  Think this is also company confidential info. \n"
   ]
  }
 ],
 "metadata": {
  "interpreter": {
   "hash": "200c92c6c5747da537ed677e9ed54c64a1717f6c658e2fb5559b74e46bcddb8c"
  },
  "kernelspec": {
   "display_name": "Python 3.6.15 64-bit ('LCAero': conda)",
   "language": "python",
   "name": "python3"
  },
  "language_info": {
   "codemirror_mode": {
    "name": "ipython",
    "version": 3
   },
   "file_extension": ".py",
   "mimetype": "text/x-python",
   "name": "python",
   "nbconvert_exporter": "python",
   "pygments_lexer": "ipython3",
   "version": "3.6.15"
  },
  "orig_nbformat": 4
 },
 "nbformat": 4,
 "nbformat_minor": 2
}
