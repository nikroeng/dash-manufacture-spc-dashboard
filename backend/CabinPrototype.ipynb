{
 "cells": [
  {
   "cell_type": "markdown",
   "metadata": {},
   "source": [
    "# Idea: Use relative scores to compare current flight to standard flight, e.g., regarding water consumption\n",
    "\n",
    "## Toilet data\n",
    "https://thepointsguy.com/2018/01/how-airplane-toilets-work/\n",
    "\n",
    "The 230 gallons of waste from an average long-haul 747 trip equates to 0.55 gallons per flush per passenger, which is significantly less than the 3.5 gallons land-based toilets go through per flush. But it’s still nearly one ton in extra weight, or thousands of dollars in overweight baggage fees.\n",
    "\n",
    "## Especially when new propulsion technologies will approach the market, e.g., hydrogen-powered planes, or flights  partially fueled with Sustainable Aviation Fuel (SAF), LCAero can have a big impact in communicating the differences.\n"
   ]
  },
  {
   "cell_type": "code",
   "execution_count": null,
   "metadata": {},
   "outputs": [],
   "source": [
    "def Electricity_Score(consumption_ratio):\n",
    "# Definition: consumption_ratio = this_flight_consumption/average_flight_consumption\n",
    "\n",
    "    if(consumption_ratio <= 0.6):\n",
    "        return \"Very low\"\n",
    "    elif(consumption_ratio <= 0.8):\n",
    "        return \"Low\"\n",
    "    elif(consumption_ratio  <= 1):\n",
    "        return \"Average\"\n",
    "    elif(consumption_ratio <= 1.2):\n",
    "        return \"High\"\n",
    "    elif(consumption_ratio <= 1.4):\n",
    "        return \"Very high\"\n",
    "    elif(consumption_ratio > 1.4):\n",
    "        return \"Extreme\"\n",
    "\n"
   ]
  },
  {
   "cell_type": "markdown",
   "metadata": {},
   "source": [
    "Factors to consider in score:\n",
    "- Share of booking classes"
   ]
  }
 ],
 "metadata": {
  "language_info": {
   "name": "python"
  },
  "orig_nbformat": 4
 },
 "nbformat": 4,
 "nbformat_minor": 2
}
