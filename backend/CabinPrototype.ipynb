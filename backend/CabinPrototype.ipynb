{
 "cells": [
  {
   "cell_type": "markdown",
   "metadata": {},
   "source": [
    "# Idea: Use relative scores to compare current flight to standard flight, e.g., regarding water consumption\n",
    "\n",
    "## Toilet data\n",
    "https://thepointsguy.com/2018/01/how-airplane-toilets-work/\n",
    "\n",
    "The 230 gallons of waste from an average long-haul 747 trip equates to 0.55 gallons per flush per passenger, which is significantly less than the 3.5 gallons land-based toilets go through per flush. But it’s still nearly one ton in extra weight, or thousands of dollars in overweight baggage fees.\n",
    "\n",
    "## Electricity consumption\n",
    "https://www.aviationbusinessnews.com/cabin/aircraft-cabin-ife-connectivity/\n",
    "\n",
    "- \"With the E2 promising better than expected range and real benefits in fuel economy, it is interesting to consider what impact the additional electrical demands of its modern cabin have on fuel consumption and the requirements for electricity generation.\"\n",
    "- \"The cabin systems’ effects on fuel efficiency are mainly related to weight. On initial development, as with any other system, the cabin’s power demands are considered in defining the total electrical power required and the generator.\"\n",
    "\n",
    "Factors contributing to lower consumption would be lack of Inflight Entertainment.\n",
    "\n",
    "## Nice thoughts\n",
    "Especially when new propulsion technologies will approach the market, LCAero can have a big impact in communicating the impact differences of different technologies. This could already become relevant in the mid-term when airlines may start mixing kerosine with a certain share of Sustainable Aviation Fuel (SAF). The passengers would not notice any difference if the flight is powered by 5, 20, or 80 % SAF, but LCAero will tell them what matters!\n",
    "\n",
    "### Factors to consider in score:\n",
    "- Share of booking classes"
   ]
  },
  {
   "cell_type": "code",
   "execution_count": 2,
   "metadata": {},
   "outputs": [],
   "source": [
    "def Electricity_Score(consumption_ratio):\n",
    "# Definition: consumption_ratio = this_flight_consumption/average_flight_consumption\n",
    "    if(consumption_ratio <= 0.6):\n",
    "        return \"Very low\"\n",
    "    elif(consumption_ratio <= 0.8):\n",
    "        return \"Low\"\n",
    "    elif(consumption_ratio  <= 1):\n",
    "        return \"Average\"\n",
    "    elif(consumption_ratio <= 1.2):\n",
    "        return \"High\"\n",
    "    elif(consumption_ratio <= 1.4):\n",
    "        return \"Very high\"\n",
    "    elif(consumption_ratio > 1.4):\n",
    "        return \"Extreme\""
   ]
  },
  {
   "cell_type": "code",
   "execution_count": 11,
   "metadata": {},
   "outputs": [
    {
     "data": {
      "text/plain": [
       "'Low'"
      ]
     },
     "execution_count": 11,
     "metadata": {},
     "output_type": "execute_result"
    }
   ],
   "source": [
    "this_flight_consumption_electricity = 6000 # kWh\n",
    "average_flight_consumption_electricity = 8000 #kWh\n",
    "consumption_ratio_electricity = this_flight_consumption_electricity/average_flight_consumption_electricity\n",
    "\n",
    "Electricity_Score(consumption_ratio_electricity)"
   ]
  }
 ],
 "metadata": {
  "interpreter": {
   "hash": "200c92c6c5747da537ed677e9ed54c64a1717f6c658e2fb5559b74e46bcddb8c"
  },
  "kernelspec": {
   "display_name": "Python 3.6.15 64-bit ('LCAero': conda)",
   "language": "python",
   "name": "python3"
  },
  "language_info": {
   "codemirror_mode": {
    "name": "ipython",
    "version": 3
   },
   "file_extension": ".py",
   "mimetype": "text/x-python",
   "name": "python",
   "nbconvert_exporter": "python",
   "pygments_lexer": "ipython3",
   "version": "3.6.15"
  },
  "orig_nbformat": 4
 },
 "nbformat": 4,
 "nbformat_minor": 2
}
